{
 "cells": [
  {
   "cell_type": "markdown",
   "id": "project-header",
   "metadata": {},
   "source": [
    "# 🏆 Chess Game Analysis - Data Acquisition Pipeline\n",
    "\n",
    "## Project Overview\n",
    "This notebook implements a robust data acquisition system for downloading and processing large-scale chess game datasets from Lichess. The pipeline is designed to handle multi-gigabyte compressed files with resume capability and progress tracking.\n",
    "\n",
    "### 📊 Dataset Information\n",
    "- **Source**: Lichess Database (https://database.lichess.org/)\n",
    "- **Format**: PGN (Portable Game Notation) compressed with Zstandard\n",
    "- **Content**: Standard rated chess games\n",
    "- **Target Size**: 1.0 GB (configurable)\n",
    "\n",
    "### 🎯 Key Features\n",
    "- ✅ **Resume Downloads**: Automatically resumes interrupted downloads\n",
    "- ✅ **Progress Tracking**: Real-time progress bars with speed and ETA\n",
    "- ✅ **Error Handling**: Robust exception handling for network issues\n",
    "- ✅ **Memory Efficient**: Streams data in 8MB chunks to minimize RAM usage\n",
    "\n",
    "---"
   ]
  },
  {
   "cell_type": "markdown",
   "id": "imports-section",
   "metadata": {},
   "source": [
    "## 📦 Dependencies and Imports\n",
    "\n",
    "Setting up the required libraries for HTTP requests and progress visualization."
   ]
  },
  {
   "cell_type": "code",
   "execution_count": null,
   "id": "11b6aa98-cfef-4fe5-a06f-0e2b862ccb87",
   "metadata": {},
   "outputs": [],
   "source": [
    "import requests\n",
    "import os\n",
    "from rich.progress import (\n",
    "    Progress,\n",
    "    BarColumn,\n",
    "    TextColumn,\n",
    "    DownloadColumn,\n",
    "    TransferSpeedColumn,\n",
    "    TimeRemainingColumn,\n",
    ")"
   ]
  },
  {
   "cell_type": "markdown",
   "id": "function-definition",
   "metadata": {},
   "source": [
    "## 🚀 Download Function Implementation\n",
    "\n",
    "### Core Functionality\n",
    "The `download_partial_file()` function provides several advanced features:\n",
    "\n",
    "1. **Partial Download Support**: Downloads only the specified amount of data (useful for sampling large datasets)\n",
    "2. **Resume Capability**: Automatically detects existing partial downloads and continues from where it left off\n",
    "3. **Progress Visualization**: Uses Rich library to display real-time download progress\n",
    "4. **Memory Management**: Processes data in 8MB chunks to handle large files efficiently\n",
    "\n",
    "### Technical Details\n",
    "- **HTTP Range Requests**: Uses `Range` headers to resume downloads\n",
    "- **Streaming Downloads**: Processes data incrementally to avoid memory overflow\n",
    "- **Error Recovery**: Graceful handling of network interruptions"
   ]
  },
  {
   "cell_type": "code",
   "execution_count": null,
   "id": "06a67791-2717-4d53-b3e1-551cf5eed606",
   "metadata": {},
   "outputs": [],
   "source": [
    "def download_partial_file(url, filename, target_gb):\n",
    "    target_bytes = int(target_gb * 1024**3)\n",
    "\n",
    "    progress = Progress(\n",
    "        TextColumn(\"[bold blue]{task.fields[filename]}\", justify=\"right\"),\n",
    "        BarColumn(bar_width=None, complete_style=\"bold green\"),\n",
    "        \"[progress.percentage]{task.percentage:>3.1f}%\",\n",
    "        \"•\",\n",
    "        DownloadColumn(binary_units=True),\n",
    "        \"•\",\n",
    "        TransferSpeedColumn(),\n",
    "        \"•\",\n",
    "        TimeRemainingColumn(),\n",
    "    )\n",
    "\n",
    "    file_mode = 'wb'\n",
    "    initial_pos = 0\n",
    "\n",
    "    if os.path.exists(filename):\n",
    "        initial_pos = os.path.getsize(filename)\n",
    "        if initial_pos >= target_bytes:\n",
    "            print(f\"✅ File '{filename}' already exists and meets target size ({target_gb} GB).\")\n",
    "            return\n",
    "        else:\n",
    "            file_mode = 'ab'\n",
    "    \n",
    "    try:\n",
    "        with progress:\n",
    "            if initial_pos > 0:\n",
    "                progress.print(f\"Resuming download for '{filename}'.\")\n",
    "            else:\n",
    "                progress.print(f\"Starting new download for '{filename}'.\")\n",
    "\n",
    "            task_id = progress.add_task(\"download\", filename=filename, total=target_bytes, start=True)\n",
    "            progress.update(task_id, completed=initial_pos)\n",
    "\n",
    "            with requests.get(url, headers={'Range': f'bytes={initial_pos}-'}, stream=True) as r:\n",
    "                r.raise_for_status()\n",
    "                with open(filename, file_mode) as f:\n",
    "                    bytes_downloaded = initial_pos\n",
    "                    for chunk in r.iter_content(chunk_size=8 * 1024**2):\n",
    "                        if not chunk:\n",
    "                            break\n",
    "                            \n",
    "                        if bytes_downloaded + len(chunk) > target_bytes:\n",
    "                            chunk = chunk[:target_bytes - bytes_downloaded]\n",
    "                        \n",
    "                        f.write(chunk)\n",
    "                        progress.update(task_id, advance=len(chunk))\n",
    "                        bytes_downloaded += len(chunk)\n",
    "\n",
    "                        if bytes_downloaded >= target_bytes:\n",
    "                            break\n",
    "            \n",
    "            print(f\"\\n✅ Download complete! '{filename}' is now {os.path.getsize(filename) / 1024**3:.2f} GB.\")\n",
    "\n",
    "    except requests.exceptions.RequestException as e:\n",
    "        print(f\"\\nAn error occurred: {e}\")\n",
    "    except KeyboardInterrupt:\n",
    "        print(f\"\\nDownload interrupted by user. Run script again to resume.\")"
   ]
  },
  {
   "cell_type": "markdown",
   "id": "execution-section",
   "metadata": {},
   "source": [
    "## 📥 Data Download Execution\n",
    "\n",
    "### Configuration Parameters\n",
    "- **Dataset**: August 2025 Lichess standard rated games\n",
    "- **Compression**: Zstandard (.zst) format for optimal compression\n",
    "- **Sample Size**: 1.0 GB (approximately 200,000-300,000 games)\n",
    "\n",
    "### Why This Dataset?\n",
    "- **Recent Data**: August 2025 represents current chess trends and player behavior\n",
    "- **High Quality**: Only rated games ensure competitive play and accurate ratings\n",
    "- **Large Scale**: Sufficient volume for meaningful statistical analysis\n",
    "- **Standardized Format**: PGN format is universally compatible with chess analysis tools\n",
    "\n",
    "> **Note**: The download will automatically resume if interrupted. Run the cell again to continue from where it left off."
   ]
  },
  {
   "cell_type": "code",
   "execution_count": null,
   "id": "93b29272-8058-4e46-891f-18277710bb02",
   "metadata": {},
   "outputs": [],
   "source": [
    "URL = \"https://database.lichess.org/standard/lichess_db_standard_rated_2025-08.pgn.zst\"\n",
    "FILENAME = URL.split('/')[-1]\n",
    "TARGET_SIZE_GB = 1.0\n",
    "\n",
    "download_partial_file(URL, FILENAME, TARGET_SIZE_GB)"
   ]
  }
 ],
 "metadata": {
  "kernelspec": {
   "display_name": "Python (spark_env)",
   "language": "python",
   "name": "spark_env"
  },
  "language_info": {
   "codemirror_mode": {
    "name": "ipython",
    "version": 3
   },
   "file_extension": ".py",
   "mimetype": "text/x-python",
   "name": "python",
   "nbconvert_exporter": "python",
   "pygments_lexer": "ipython3",
   "version": "3.10.12"
  }
 },
 "nbformat": 4,
 "nbformat_minor": 5
}
